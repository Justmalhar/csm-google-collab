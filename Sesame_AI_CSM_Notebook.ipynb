{
  "cells": [
    {
      "cell_type": "markdown",
      "metadata": {
        "id": "view-in-github",
        "colab_type": "text"
      },
      "source": [
        "<a href=\"https://colab.research.google.com/github/Justmalhar/csm-google-collab/blob/main/Sesame_AI_CSM_Notebook.ipynb\" target=\"_parent\"><img src=\"https://colab.research.google.com/assets/colab-badge.svg\" alt=\"Open In Colab\"/></a>"
      ]
    },
    {
      "cell_type": "markdown",
      "source": [
        "# Sesame AI - Google Collab CSM notebook\n",
        "\n",
        "Author: justmalhar\n",
        "\n",
        "http://x.com/justmalhar\n",
        "\n",
        "http://github.com/justmalhar\n",
        "\n",
        "HuggingFace Model - https://huggingface.co/sesame/csm-1b\n",
        "\n",
        "## Instructions\n",
        "\n",
        "Run each step below till you see the Gradio UI running\n",
        "\n",
        "\n",
        "## Steps:\n",
        "1. Setup Gradio\n",
        "2. Clone the repo and install the requirments\n",
        "3. Login with HuggingFace account to access the model\n",
        "4. Run all steps till you see the Gradio UI"
      ],
      "metadata": {
        "id": "Ww36-N-bgcnA"
      }
    },
    {
      "cell_type": "code",
      "execution_count": null,
      "metadata": {
        "id": "T6S72oH6hTd5",
        "colab": {
          "base_uri": "https://localhost:8080/"
        },
        "outputId": "cd15a8fb-2033-49a5-8243-96ca208a7385"
      },
      "outputs": [
        {
          "output_type": "stream",
          "name": "stdout",
          "text": [
            "Requirement already satisfied: gradio in /usr/local/lib/python3.11/dist-packages (5.22.0)\n",
            "Requirement already satisfied: aiofiles<24.0,>=22.0 in /usr/local/lib/python3.11/dist-packages (from gradio) (23.2.1)\n",
            "Requirement already satisfied: anyio<5.0,>=3.0 in /usr/local/lib/python3.11/dist-packages (from gradio) (4.9.0)\n",
            "Requirement already satisfied: fastapi<1.0,>=0.115.2 in /usr/local/lib/python3.11/dist-packages (from gradio) (0.115.11)\n",
            "Requirement already satisfied: ffmpy in /usr/local/lib/python3.11/dist-packages (from gradio) (0.5.0)\n",
            "Requirement already satisfied: gradio-client==1.8.0 in /usr/local/lib/python3.11/dist-packages (from gradio) (1.8.0)\n",
            "Requirement already satisfied: groovy~=0.1 in /usr/local/lib/python3.11/dist-packages (from gradio) (0.1.2)\n",
            "Requirement already satisfied: httpx>=0.24.1 in /usr/local/lib/python3.11/dist-packages (from gradio) (0.28.1)\n",
            "Requirement already satisfied: huggingface-hub>=0.28.1 in /usr/local/lib/python3.11/dist-packages (from gradio) (0.28.1)\n",
            "Requirement already satisfied: jinja2<4.0 in /usr/local/lib/python3.11/dist-packages (from gradio) (3.1.6)\n",
            "Requirement already satisfied: markupsafe<4.0,>=2.0 in /usr/local/lib/python3.11/dist-packages (from gradio) (3.0.2)\n",
            "Requirement already satisfied: numpy<3.0,>=1.0 in /usr/local/lib/python3.11/dist-packages (from gradio) (2.0.2)\n",
            "Requirement already satisfied: orjson~=3.0 in /usr/local/lib/python3.11/dist-packages (from gradio) (3.10.15)\n",
            "Requirement already satisfied: packaging in /usr/local/lib/python3.11/dist-packages (from gradio) (24.2)\n",
            "Requirement already satisfied: pandas<3.0,>=1.0 in /usr/local/lib/python3.11/dist-packages (from gradio) (2.2.2)\n",
            "Requirement already satisfied: pillow<12.0,>=8.0 in /usr/local/lib/python3.11/dist-packages (from gradio) (11.1.0)\n",
            "Requirement already satisfied: pydantic>=2.0 in /usr/local/lib/python3.11/dist-packages (from gradio) (2.10.6)\n",
            "Requirement already satisfied: pydub in /usr/local/lib/python3.11/dist-packages (from gradio) (0.25.1)\n",
            "Requirement already satisfied: python-multipart>=0.0.18 in /usr/local/lib/python3.11/dist-packages (from gradio) (0.0.20)\n",
            "Requirement already satisfied: pyyaml<7.0,>=5.0 in /usr/local/lib/python3.11/dist-packages (from gradio) (6.0.2)\n",
            "Requirement already satisfied: ruff>=0.9.3 in /usr/local/lib/python3.11/dist-packages (from gradio) (0.11.1)\n",
            "Requirement already satisfied: safehttpx<0.2.0,>=0.1.6 in /usr/local/lib/python3.11/dist-packages (from gradio) (0.1.6)\n",
            "Requirement already satisfied: semantic-version~=2.0 in /usr/local/lib/python3.11/dist-packages (from gradio) (2.10.0)\n",
            "Requirement already satisfied: starlette<1.0,>=0.40.0 in /usr/local/lib/python3.11/dist-packages (from gradio) (0.46.1)\n",
            "Requirement already satisfied: tomlkit<0.14.0,>=0.12.0 in /usr/local/lib/python3.11/dist-packages (from gradio) (0.13.2)\n",
            "Requirement already satisfied: typer<1.0,>=0.12 in /usr/local/lib/python3.11/dist-packages (from gradio) (0.15.2)\n",
            "Requirement already satisfied: typing-extensions~=4.0 in /usr/local/lib/python3.11/dist-packages (from gradio) (4.12.2)\n",
            "Requirement already satisfied: uvicorn>=0.14.0 in /usr/local/lib/python3.11/dist-packages (from gradio) (0.34.0)\n",
            "Requirement already satisfied: fsspec in /usr/local/lib/python3.11/dist-packages (from gradio-client==1.8.0->gradio) (2024.12.0)\n",
            "Requirement already satisfied: websockets<16.0,>=10.0 in /usr/local/lib/python3.11/dist-packages (from gradio-client==1.8.0->gradio) (14.2)\n",
            "Requirement already satisfied: idna>=2.8 in /usr/local/lib/python3.11/dist-packages (from anyio<5.0,>=3.0->gradio) (3.10)\n",
            "Requirement already satisfied: sniffio>=1.1 in /usr/local/lib/python3.11/dist-packages (from anyio<5.0,>=3.0->gradio) (1.3.1)\n",
            "Requirement already satisfied: certifi in /usr/local/lib/python3.11/dist-packages (from httpx>=0.24.1->gradio) (2025.1.31)\n",
            "Requirement already satisfied: httpcore==1.* in /usr/local/lib/python3.11/dist-packages (from httpx>=0.24.1->gradio) (1.0.7)\n",
            "Requirement already satisfied: h11<0.15,>=0.13 in /usr/local/lib/python3.11/dist-packages (from httpcore==1.*->httpx>=0.24.1->gradio) (0.14.0)\n",
            "Requirement already satisfied: filelock in /usr/local/lib/python3.11/dist-packages (from huggingface-hub>=0.28.1->gradio) (3.18.0)\n",
            "Requirement already satisfied: requests in /usr/local/lib/python3.11/dist-packages (from huggingface-hub>=0.28.1->gradio) (2.32.3)\n",
            "Requirement already satisfied: tqdm>=4.42.1 in /usr/local/lib/python3.11/dist-packages (from huggingface-hub>=0.28.1->gradio) (4.67.1)\n",
            "Requirement already satisfied: python-dateutil>=2.8.2 in /usr/local/lib/python3.11/dist-packages (from pandas<3.0,>=1.0->gradio) (2.8.2)\n",
            "Requirement already satisfied: pytz>=2020.1 in /usr/local/lib/python3.11/dist-packages (from pandas<3.0,>=1.0->gradio) (2025.1)\n",
            "Requirement already satisfied: tzdata>=2022.7 in /usr/local/lib/python3.11/dist-packages (from pandas<3.0,>=1.0->gradio) (2025.1)\n",
            "Requirement already satisfied: annotated-types>=0.6.0 in /usr/local/lib/python3.11/dist-packages (from pydantic>=2.0->gradio) (0.7.0)\n",
            "Requirement already satisfied: pydantic-core==2.27.2 in /usr/local/lib/python3.11/dist-packages (from pydantic>=2.0->gradio) (2.27.2)\n",
            "Requirement already satisfied: click>=8.0.0 in /usr/local/lib/python3.11/dist-packages (from typer<1.0,>=0.12->gradio) (8.1.8)\n",
            "Requirement already satisfied: shellingham>=1.3.0 in /usr/local/lib/python3.11/dist-packages (from typer<1.0,>=0.12->gradio) (1.5.4)\n",
            "Requirement already satisfied: rich>=10.11.0 in /usr/local/lib/python3.11/dist-packages (from typer<1.0,>=0.12->gradio) (13.9.4)\n",
            "Requirement already satisfied: six>=1.5 in /usr/local/lib/python3.11/dist-packages (from python-dateutil>=2.8.2->pandas<3.0,>=1.0->gradio) (1.17.0)\n",
            "Requirement already satisfied: markdown-it-py>=2.2.0 in /usr/local/lib/python3.11/dist-packages (from rich>=10.11.0->typer<1.0,>=0.12->gradio) (3.0.0)\n",
            "Requirement already satisfied: pygments<3.0.0,>=2.13.0 in /usr/local/lib/python3.11/dist-packages (from rich>=10.11.0->typer<1.0,>=0.12->gradio) (2.18.0)\n",
            "Requirement already satisfied: charset-normalizer<4,>=2 in /usr/local/lib/python3.11/dist-packages (from requests->huggingface-hub>=0.28.1->gradio) (3.4.1)\n",
            "Requirement already satisfied: urllib3<3,>=1.21.1 in /usr/local/lib/python3.11/dist-packages (from requests->huggingface-hub>=0.28.1->gradio) (2.3.0)\n",
            "Requirement already satisfied: mdurl~=0.1 in /usr/local/lib/python3.11/dist-packages (from markdown-it-py>=2.2.0->rich>=10.11.0->typer<1.0,>=0.12->gradio) (0.1.2)\n"
          ]
        }
      ],
      "source": [
        "# Install dependencies\n",
        "!pip install gradio"
      ]
    },
    {
      "cell_type": "markdown",
      "source": [],
      "metadata": {
        "id": "ssphqLJugbrI"
      }
    },
    {
      "cell_type": "code",
      "execution_count": null,
      "metadata": {
        "colab": {
          "base_uri": "https://localhost:8080/"
        },
        "id": "ObK_fhW7iCAn",
        "outputId": "a483389f-82f3-4d07-e1b5-6cc4c73bae21",
        "collapsed": true
      },
      "outputs": [
        {
          "output_type": "stream",
          "name": "stdout",
          "text": [
            "fatal: destination path 'csm' already exists and is not an empty directory.\n"
          ]
        }
      ],
      "source": [
        "# Clone the repository\n",
        "!git clone https://github.com/SesameAILabs/csm.git"
      ]
    },
    {
      "cell_type": "code",
      "source": [
        "# Install dependencies from requirements.txt\n",
        "!pip install -r /content/csm/requirements.txt"
      ],
      "metadata": {
        "colab": {
          "base_uri": "https://localhost:8080/"
        },
        "id": "cr1XnB10Zf4z",
        "outputId": "d5d175fe-6c10-4b6d-9ffb-d40b29adcd04",
        "collapsed": true
      },
      "execution_count": null,
      "outputs": [
        {
          "output_type": "stream",
          "name": "stdout",
          "text": [
            "Collecting silentcipher@ git+https://github.com/SesameAILabs/silentcipher@master (from -r /content/csm/requirements.txt (line 9))\n",
            "  Cloning https://github.com/SesameAILabs/silentcipher (to revision master) to /tmp/pip-install-d9ght3zq/silentcipher_3dbdf716654d405bacc05df088282f64\n",
            "  Running command git clone --filter=blob:none --quiet https://github.com/SesameAILabs/silentcipher /tmp/pip-install-d9ght3zq/silentcipher_3dbdf716654d405bacc05df088282f64\n",
            "  Resolved https://github.com/SesameAILabs/silentcipher to commit d46d7d0893a583d8968ab3a6626e2289faec9152\n",
            "  Installing build dependencies ... \u001b[?25l\u001b[?25hdone\n",
            "  Getting requirements to build wheel ... \u001b[?25l\u001b[?25hdone\n",
            "  Preparing metadata (pyproject.toml) ... \u001b[?25l\u001b[?25hdone\n",
            "Requirement already satisfied: torch==2.4.0 in /usr/local/lib/python3.11/dist-packages (from -r /content/csm/requirements.txt (line 1)) (2.4.0)\n",
            "Requirement already satisfied: torchaudio==2.4.0 in /usr/local/lib/python3.11/dist-packages (from -r /content/csm/requirements.txt (line 2)) (2.4.0)\n",
            "Requirement already satisfied: tokenizers==0.21.0 in /usr/local/lib/python3.11/dist-packages (from -r /content/csm/requirements.txt (line 3)) (0.21.0)\n",
            "Requirement already satisfied: transformers==4.49.0 in /usr/local/lib/python3.11/dist-packages (from -r /content/csm/requirements.txt (line 4)) (4.49.0)\n",
            "Requirement already satisfied: huggingface_hub==0.28.1 in /usr/local/lib/python3.11/dist-packages (from -r /content/csm/requirements.txt (line 5)) (0.28.1)\n",
            "Requirement already satisfied: moshi==0.2.2 in /usr/local/lib/python3.11/dist-packages (from -r /content/csm/requirements.txt (line 6)) (0.2.2)\n",
            "Requirement already satisfied: torchtune==0.4.0 in /usr/local/lib/python3.11/dist-packages (from -r /content/csm/requirements.txt (line 7)) (0.4.0)\n",
            "Requirement already satisfied: torchao==0.9.0 in /usr/local/lib/python3.11/dist-packages (from -r /content/csm/requirements.txt (line 8)) (0.9.0)\n",
            "Requirement already satisfied: filelock in /usr/local/lib/python3.11/dist-packages (from torch==2.4.0->-r /content/csm/requirements.txt (line 1)) (3.18.0)\n",
            "Requirement already satisfied: typing-extensions>=4.8.0 in /usr/local/lib/python3.11/dist-packages (from torch==2.4.0->-r /content/csm/requirements.txt (line 1)) (4.12.2)\n",
            "Requirement already satisfied: sympy in /usr/local/lib/python3.11/dist-packages (from torch==2.4.0->-r /content/csm/requirements.txt (line 1)) (1.13.1)\n",
            "Requirement already satisfied: networkx in /usr/local/lib/python3.11/dist-packages (from torch==2.4.0->-r /content/csm/requirements.txt (line 1)) (3.4.2)\n",
            "Requirement already satisfied: jinja2 in /usr/local/lib/python3.11/dist-packages (from torch==2.4.0->-r /content/csm/requirements.txt (line 1)) (3.1.6)\n",
            "Requirement already satisfied: fsspec in /usr/local/lib/python3.11/dist-packages (from torch==2.4.0->-r /content/csm/requirements.txt (line 1)) (2024.12.0)\n",
            "Requirement already satisfied: nvidia-cuda-nvrtc-cu12==12.1.105 in /usr/local/lib/python3.11/dist-packages (from torch==2.4.0->-r /content/csm/requirements.txt (line 1)) (12.1.105)\n",
            "Requirement already satisfied: nvidia-cuda-runtime-cu12==12.1.105 in /usr/local/lib/python3.11/dist-packages (from torch==2.4.0->-r /content/csm/requirements.txt (line 1)) (12.1.105)\n",
            "Requirement already satisfied: nvidia-cuda-cupti-cu12==12.1.105 in /usr/local/lib/python3.11/dist-packages (from torch==2.4.0->-r /content/csm/requirements.txt (line 1)) (12.1.105)\n",
            "Requirement already satisfied: nvidia-cudnn-cu12==9.1.0.70 in /usr/local/lib/python3.11/dist-packages (from torch==2.4.0->-r /content/csm/requirements.txt (line 1)) (9.1.0.70)\n",
            "Requirement already satisfied: nvidia-cublas-cu12==12.1.3.1 in /usr/local/lib/python3.11/dist-packages (from torch==2.4.0->-r /content/csm/requirements.txt (line 1)) (12.1.3.1)\n",
            "Requirement already satisfied: nvidia-cufft-cu12==11.0.2.54 in /usr/local/lib/python3.11/dist-packages (from torch==2.4.0->-r /content/csm/requirements.txt (line 1)) (11.0.2.54)\n",
            "Requirement already satisfied: nvidia-curand-cu12==10.3.2.106 in /usr/local/lib/python3.11/dist-packages (from torch==2.4.0->-r /content/csm/requirements.txt (line 1)) (10.3.2.106)\n",
            "Requirement already satisfied: nvidia-cusolver-cu12==11.4.5.107 in /usr/local/lib/python3.11/dist-packages (from torch==2.4.0->-r /content/csm/requirements.txt (line 1)) (11.4.5.107)\n",
            "Requirement already satisfied: nvidia-cusparse-cu12==12.1.0.106 in /usr/local/lib/python3.11/dist-packages (from torch==2.4.0->-r /content/csm/requirements.txt (line 1)) (12.1.0.106)\n",
            "Requirement already satisfied: nvidia-nccl-cu12==2.20.5 in /usr/local/lib/python3.11/dist-packages (from torch==2.4.0->-r /content/csm/requirements.txt (line 1)) (2.20.5)\n",
            "Requirement already satisfied: nvidia-nvtx-cu12==12.1.105 in /usr/local/lib/python3.11/dist-packages (from torch==2.4.0->-r /content/csm/requirements.txt (line 1)) (12.1.105)\n",
            "Requirement already satisfied: triton==3.0.0 in /usr/local/lib/python3.11/dist-packages (from torch==2.4.0->-r /content/csm/requirements.txt (line 1)) (3.0.0)\n",
            "Requirement already satisfied: numpy>=1.17 in /usr/local/lib/python3.11/dist-packages (from transformers==4.49.0->-r /content/csm/requirements.txt (line 4)) (2.0.2)\n",
            "Requirement already satisfied: packaging>=20.0 in /usr/local/lib/python3.11/dist-packages (from transformers==4.49.0->-r /content/csm/requirements.txt (line 4)) (24.2)\n",
            "Requirement already satisfied: pyyaml>=5.1 in /usr/local/lib/python3.11/dist-packages (from transformers==4.49.0->-r /content/csm/requirements.txt (line 4)) (6.0.2)\n",
            "Requirement already satisfied: regex!=2019.12.17 in /usr/local/lib/python3.11/dist-packages (from transformers==4.49.0->-r /content/csm/requirements.txt (line 4)) (2024.11.6)\n",
            "Requirement already satisfied: requests in /usr/local/lib/python3.11/dist-packages (from transformers==4.49.0->-r /content/csm/requirements.txt (line 4)) (2.32.3)\n",
            "Requirement already satisfied: safetensors>=0.4.1 in /usr/local/lib/python3.11/dist-packages (from transformers==4.49.0->-r /content/csm/requirements.txt (line 4)) (0.5.3)\n",
            "Requirement already satisfied: tqdm>=4.27 in /usr/local/lib/python3.11/dist-packages (from transformers==4.49.0->-r /content/csm/requirements.txt (line 4)) (4.67.1)\n",
            "Requirement already satisfied: bitsandbytes<0.46,>=0.45 in /usr/local/lib/python3.11/dist-packages (from moshi==0.2.2->-r /content/csm/requirements.txt (line 6)) (0.45.3)\n",
            "Requirement already satisfied: einops<0.9,>=0.7 in /usr/local/lib/python3.11/dist-packages (from moshi==0.2.2->-r /content/csm/requirements.txt (line 6)) (0.8.1)\n",
            "Requirement already satisfied: sentencepiece==0.2 in /usr/local/lib/python3.11/dist-packages (from moshi==0.2.2->-r /content/csm/requirements.txt (line 6)) (0.2.0)\n",
            "Requirement already satisfied: sounddevice==0.5 in /usr/local/lib/python3.11/dist-packages (from moshi==0.2.2->-r /content/csm/requirements.txt (line 6)) (0.5.0)\n",
            "Requirement already satisfied: sphn>=0.1.4 in /usr/local/lib/python3.11/dist-packages (from moshi==0.2.2->-r /content/csm/requirements.txt (line 6)) (0.1.8)\n",
            "Requirement already satisfied: aiohttp<3.12,>=3.10.5 in /usr/local/lib/python3.11/dist-packages (from moshi==0.2.2->-r /content/csm/requirements.txt (line 6)) (3.11.14)\n",
            "Requirement already satisfied: pytest>=8.3.3 in /usr/local/lib/python3.11/dist-packages (from moshi==0.2.2->-r /content/csm/requirements.txt (line 6)) (8.3.5)\n",
            "Requirement already satisfied: datasets in /usr/local/lib/python3.11/dist-packages (from torchtune==0.4.0->-r /content/csm/requirements.txt (line 7)) (3.4.1)\n",
            "Requirement already satisfied: tiktoken in /usr/local/lib/python3.11/dist-packages (from torchtune==0.4.0->-r /content/csm/requirements.txt (line 7)) (0.9.0)\n",
            "Requirement already satisfied: blobfile>=2 in /usr/local/lib/python3.11/dist-packages (from torchtune==0.4.0->-r /content/csm/requirements.txt (line 7)) (3.0.0)\n",
            "Requirement already satisfied: omegaconf in /usr/local/lib/python3.11/dist-packages (from torchtune==0.4.0->-r /content/csm/requirements.txt (line 7)) (2.3.0)\n",
            "Requirement already satisfied: psutil in /usr/local/lib/python3.11/dist-packages (from torchtune==0.4.0->-r /content/csm/requirements.txt (line 7)) (5.9.5)\n",
            "Requirement already satisfied: Pillow>=9.4.0 in /usr/local/lib/python3.11/dist-packages (from torchtune==0.4.0->-r /content/csm/requirements.txt (line 7)) (11.1.0)\n",
            "Requirement already satisfied: nvidia-nvjitlink-cu12 in /usr/local/lib/python3.11/dist-packages (from nvidia-cusolver-cu12==11.4.5.107->torch==2.4.0->-r /content/csm/requirements.txt (line 1)) (12.5.82)\n",
            "Requirement already satisfied: CFFI>=1.0 in /usr/local/lib/python3.11/dist-packages (from sounddevice==0.5->moshi==0.2.2->-r /content/csm/requirements.txt (line 6)) (1.17.1)\n",
            "Requirement already satisfied: librosa>=0.10.0 in /usr/local/lib/python3.11/dist-packages (from silentcipher@ git+https://github.com/SesameAILabs/silentcipher@master->-r /content/csm/requirements.txt (line 9)) (0.11.0)\n",
            "Requirement already satisfied: SoundFile>=0.12.1 in /usr/local/lib/python3.11/dist-packages (from silentcipher@ git+https://github.com/SesameAILabs/silentcipher@master->-r /content/csm/requirements.txt (line 9)) (0.13.1)\n",
            "Requirement already satisfied: scipy>=1.11.4 in /usr/local/lib/python3.11/dist-packages (from silentcipher@ git+https://github.com/SesameAILabs/silentcipher@master->-r /content/csm/requirements.txt (line 9)) (1.14.1)\n",
            "Requirement already satisfied: pyaml>=24.4.0 in /usr/local/lib/python3.11/dist-packages (from silentcipher@ git+https://github.com/SesameAILabs/silentcipher@master->-r /content/csm/requirements.txt (line 9)) (25.1.0)\n",
            "Requirement already satisfied: Flask>=2.2.5 in /usr/local/lib/python3.11/dist-packages (from silentcipher@ git+https://github.com/SesameAILabs/silentcipher@master->-r /content/csm/requirements.txt (line 9)) (3.1.0)\n",
            "Requirement already satisfied: pydub>=0.25.1 in /usr/local/lib/python3.11/dist-packages (from silentcipher@ git+https://github.com/SesameAILabs/silentcipher@master->-r /content/csm/requirements.txt (line 9)) (0.25.1)\n",
            "Requirement already satisfied: aiohappyeyeballs>=2.3.0 in /usr/local/lib/python3.11/dist-packages (from aiohttp<3.12,>=3.10.5->moshi==0.2.2->-r /content/csm/requirements.txt (line 6)) (2.6.1)\n",
            "Requirement already satisfied: aiosignal>=1.1.2 in /usr/local/lib/python3.11/dist-packages (from aiohttp<3.12,>=3.10.5->moshi==0.2.2->-r /content/csm/requirements.txt (line 6)) (1.3.2)\n",
            "Requirement already satisfied: attrs>=17.3.0 in /usr/local/lib/python3.11/dist-packages (from aiohttp<3.12,>=3.10.5->moshi==0.2.2->-r /content/csm/requirements.txt (line 6)) (25.3.0)\n",
            "Requirement already satisfied: frozenlist>=1.1.1 in /usr/local/lib/python3.11/dist-packages (from aiohttp<3.12,>=3.10.5->moshi==0.2.2->-r /content/csm/requirements.txt (line 6)) (1.5.0)\n",
            "Requirement already satisfied: multidict<7.0,>=4.5 in /usr/local/lib/python3.11/dist-packages (from aiohttp<3.12,>=3.10.5->moshi==0.2.2->-r /content/csm/requirements.txt (line 6)) (6.2.0)\n",
            "Requirement already satisfied: propcache>=0.2.0 in /usr/local/lib/python3.11/dist-packages (from aiohttp<3.12,>=3.10.5->moshi==0.2.2->-r /content/csm/requirements.txt (line 6)) (0.3.0)\n",
            "Requirement already satisfied: yarl<2.0,>=1.17.0 in /usr/local/lib/python3.11/dist-packages (from aiohttp<3.12,>=3.10.5->moshi==0.2.2->-r /content/csm/requirements.txt (line 6)) (1.18.3)\n",
            "Requirement already satisfied: pycryptodomex>=3.8 in /usr/local/lib/python3.11/dist-packages (from blobfile>=2->torchtune==0.4.0->-r /content/csm/requirements.txt (line 7)) (3.22.0)\n",
            "Requirement already satisfied: urllib3<3,>=1.25.3 in /usr/local/lib/python3.11/dist-packages (from blobfile>=2->torchtune==0.4.0->-r /content/csm/requirements.txt (line 7)) (2.3.0)\n",
            "Requirement already satisfied: lxml>=4.9 in /usr/local/lib/python3.11/dist-packages (from blobfile>=2->torchtune==0.4.0->-r /content/csm/requirements.txt (line 7)) (5.3.1)\n",
            "Requirement already satisfied: Werkzeug>=3.1 in /usr/local/lib/python3.11/dist-packages (from Flask>=2.2.5->silentcipher@ git+https://github.com/SesameAILabs/silentcipher@master->-r /content/csm/requirements.txt (line 9)) (3.1.3)\n",
            "Requirement already satisfied: itsdangerous>=2.2 in /usr/local/lib/python3.11/dist-packages (from Flask>=2.2.5->silentcipher@ git+https://github.com/SesameAILabs/silentcipher@master->-r /content/csm/requirements.txt (line 9)) (2.2.0)\n",
            "Requirement already satisfied: click>=8.1.3 in /usr/local/lib/python3.11/dist-packages (from Flask>=2.2.5->silentcipher@ git+https://github.com/SesameAILabs/silentcipher@master->-r /content/csm/requirements.txt (line 9)) (8.1.8)\n",
            "Requirement already satisfied: blinker>=1.9 in /usr/local/lib/python3.11/dist-packages (from Flask>=2.2.5->silentcipher@ git+https://github.com/SesameAILabs/silentcipher@master->-r /content/csm/requirements.txt (line 9)) (1.9.0)\n",
            "Requirement already satisfied: MarkupSafe>=2.0 in /usr/local/lib/python3.11/dist-packages (from jinja2->torch==2.4.0->-r /content/csm/requirements.txt (line 1)) (3.0.2)\n",
            "Requirement already satisfied: audioread>=2.1.9 in /usr/local/lib/python3.11/dist-packages (from librosa>=0.10.0->silentcipher@ git+https://github.com/SesameAILabs/silentcipher@master->-r /content/csm/requirements.txt (line 9)) (3.0.1)\n",
            "Requirement already satisfied: numba>=0.51.0 in /usr/local/lib/python3.11/dist-packages (from librosa>=0.10.0->silentcipher@ git+https://github.com/SesameAILabs/silentcipher@master->-r /content/csm/requirements.txt (line 9)) (0.60.0)\n",
            "Requirement already satisfied: scikit-learn>=1.1.0 in /usr/local/lib/python3.11/dist-packages (from librosa>=0.10.0->silentcipher@ git+https://github.com/SesameAILabs/silentcipher@master->-r /content/csm/requirements.txt (line 9)) (1.6.1)\n",
            "Requirement already satisfied: joblib>=1.0 in /usr/local/lib/python3.11/dist-packages (from librosa>=0.10.0->silentcipher@ git+https://github.com/SesameAILabs/silentcipher@master->-r /content/csm/requirements.txt (line 9)) (1.4.2)\n",
            "Requirement already satisfied: decorator>=4.3.0 in /usr/local/lib/python3.11/dist-packages (from librosa>=0.10.0->silentcipher@ git+https://github.com/SesameAILabs/silentcipher@master->-r /content/csm/requirements.txt (line 9)) (4.4.2)\n",
            "Requirement already satisfied: pooch>=1.1 in /usr/local/lib/python3.11/dist-packages (from librosa>=0.10.0->silentcipher@ git+https://github.com/SesameAILabs/silentcipher@master->-r /content/csm/requirements.txt (line 9)) (1.8.2)\n",
            "Requirement already satisfied: soxr>=0.3.2 in /usr/local/lib/python3.11/dist-packages (from librosa>=0.10.0->silentcipher@ git+https://github.com/SesameAILabs/silentcipher@master->-r /content/csm/requirements.txt (line 9)) (0.5.0.post1)\n",
            "Requirement already satisfied: lazy_loader>=0.1 in /usr/local/lib/python3.11/dist-packages (from librosa>=0.10.0->silentcipher@ git+https://github.com/SesameAILabs/silentcipher@master->-r /content/csm/requirements.txt (line 9)) (0.4)\n",
            "Requirement already satisfied: msgpack>=1.0 in /usr/local/lib/python3.11/dist-packages (from librosa>=0.10.0->silentcipher@ git+https://github.com/SesameAILabs/silentcipher@master->-r /content/csm/requirements.txt (line 9)) (1.1.0)\n",
            "Requirement already satisfied: iniconfig in /usr/local/lib/python3.11/dist-packages (from pytest>=8.3.3->moshi==0.2.2->-r /content/csm/requirements.txt (line 6)) (2.0.0)\n",
            "Requirement already satisfied: pluggy<2,>=1.5 in /usr/local/lib/python3.11/dist-packages (from pytest>=8.3.3->moshi==0.2.2->-r /content/csm/requirements.txt (line 6)) (1.5.0)\n",
            "Requirement already satisfied: pyarrow>=15.0.0 in /usr/local/lib/python3.11/dist-packages (from datasets->torchtune==0.4.0->-r /content/csm/requirements.txt (line 7)) (18.1.0)\n",
            "Requirement already satisfied: dill<0.3.9,>=0.3.0 in /usr/local/lib/python3.11/dist-packages (from datasets->torchtune==0.4.0->-r /content/csm/requirements.txt (line 7)) (0.3.8)\n",
            "Requirement already satisfied: pandas in /usr/local/lib/python3.11/dist-packages (from datasets->torchtune==0.4.0->-r /content/csm/requirements.txt (line 7)) (2.2.2)\n",
            "Requirement already satisfied: xxhash in /usr/local/lib/python3.11/dist-packages (from datasets->torchtune==0.4.0->-r /content/csm/requirements.txt (line 7)) (3.5.0)\n",
            "Requirement already satisfied: multiprocess<0.70.17 in /usr/local/lib/python3.11/dist-packages (from datasets->torchtune==0.4.0->-r /content/csm/requirements.txt (line 7)) (0.70.16)\n",
            "Requirement already satisfied: charset-normalizer<4,>=2 in /usr/local/lib/python3.11/dist-packages (from requests->transformers==4.49.0->-r /content/csm/requirements.txt (line 4)) (3.4.1)\n",
            "Requirement already satisfied: idna<4,>=2.5 in /usr/local/lib/python3.11/dist-packages (from requests->transformers==4.49.0->-r /content/csm/requirements.txt (line 4)) (3.10)\n",
            "Requirement already satisfied: certifi>=2017.4.17 in /usr/local/lib/python3.11/dist-packages (from requests->transformers==4.49.0->-r /content/csm/requirements.txt (line 4)) (2025.1.31)\n",
            "Requirement already satisfied: antlr4-python3-runtime==4.9.* in /usr/local/lib/python3.11/dist-packages (from omegaconf->torchtune==0.4.0->-r /content/csm/requirements.txt (line 7)) (4.9.3)\n",
            "Requirement already satisfied: mpmath<1.4,>=1.1.0 in /usr/local/lib/python3.11/dist-packages (from sympy->torch==2.4.0->-r /content/csm/requirements.txt (line 1)) (1.3.0)\n",
            "Requirement already satisfied: pycparser in /usr/local/lib/python3.11/dist-packages (from CFFI>=1.0->sounddevice==0.5->moshi==0.2.2->-r /content/csm/requirements.txt (line 6)) (2.22)\n",
            "Requirement already satisfied: llvmlite<0.44,>=0.43.0dev0 in /usr/local/lib/python3.11/dist-packages (from numba>=0.51.0->librosa>=0.10.0->silentcipher@ git+https://github.com/SesameAILabs/silentcipher@master->-r /content/csm/requirements.txt (line 9)) (0.43.0)\n",
            "Requirement already satisfied: platformdirs>=2.5.0 in /usr/local/lib/python3.11/dist-packages (from pooch>=1.1->librosa>=0.10.0->silentcipher@ git+https://github.com/SesameAILabs/silentcipher@master->-r /content/csm/requirements.txt (line 9)) (4.3.6)\n",
            "Requirement already satisfied: threadpoolctl>=3.1.0 in /usr/local/lib/python3.11/dist-packages (from scikit-learn>=1.1.0->librosa>=0.10.0->silentcipher@ git+https://github.com/SesameAILabs/silentcipher@master->-r /content/csm/requirements.txt (line 9)) (3.6.0)\n",
            "Requirement already satisfied: python-dateutil>=2.8.2 in /usr/local/lib/python3.11/dist-packages (from pandas->datasets->torchtune==0.4.0->-r /content/csm/requirements.txt (line 7)) (2.8.2)\n",
            "Requirement already satisfied: pytz>=2020.1 in /usr/local/lib/python3.11/dist-packages (from pandas->datasets->torchtune==0.4.0->-r /content/csm/requirements.txt (line 7)) (2025.1)\n",
            "Requirement already satisfied: tzdata>=2022.7 in /usr/local/lib/python3.11/dist-packages (from pandas->datasets->torchtune==0.4.0->-r /content/csm/requirements.txt (line 7)) (2025.1)\n",
            "Requirement already satisfied: six>=1.5 in /usr/local/lib/python3.11/dist-packages (from python-dateutil>=2.8.2->pandas->datasets->torchtune==0.4.0->-r /content/csm/requirements.txt (line 7)) (1.17.0)\n"
          ]
        }
      ]
    },
    {
      "cell_type": "code",
      "execution_count": null,
      "metadata": {
        "id": "YV8hf1Y7iEl0"
      },
      "outputs": [],
      "source": [
        "#Add the repository to Python's path\n",
        "import sys\n",
        "sys.path.append(\"/content/csm\")"
      ]
    },
    {
      "cell_type": "code",
      "execution_count": null,
      "metadata": {
        "id": "8AvFx6f4iMSW",
        "collapsed": true
      },
      "outputs": [],
      "source": [
        "# Authenticate with Hugging Face\n",
        "from huggingface_hub import notebook_login\n",
        "notebook_login(\"\")"
      ]
    },
    {
      "cell_type": "code",
      "execution_count": null,
      "metadata": {
        "colab": {
          "base_uri": "https://localhost:8080/",
          "height": 356
        },
        "id": "3CsTqgqZiUls",
        "outputId": "8966902a-5d4d-4ba4-f8f7-12e6830cf676",
        "collapsed": true
      },
      "outputs": [
        {
          "output_type": "error",
          "ename": "TypeError",
          "evalue": "Model.__init__() missing 1 required positional argument: 'config'",
          "traceback": [
            "\u001b[0;31m---------------------------------------------------------------------------\u001b[0m",
            "\u001b[0;31mTypeError\u001b[0m                                 Traceback (most recent call last)",
            "\u001b[0;32m<ipython-input-15-ada21cbea872>\u001b[0m in \u001b[0;36m<cell line: 0>\u001b[0;34m()\u001b[0m\n\u001b[1;32m      3\u001b[0m \u001b[0;32mimport\u001b[0m \u001b[0mtorchaudio\u001b[0m\u001b[0;34m\u001b[0m\u001b[0;34m\u001b[0m\u001b[0m\n\u001b[1;32m      4\u001b[0m \u001b[0;34m\u001b[0m\u001b[0m\n\u001b[0;32m----> 5\u001b[0;31m \u001b[0mgenerator\u001b[0m \u001b[0;34m=\u001b[0m \u001b[0mload_csm_1b\u001b[0m\u001b[0;34m(\u001b[0m\u001b[0mdevice\u001b[0m\u001b[0;34m=\u001b[0m\u001b[0;34m\"cuda\"\u001b[0m\u001b[0;34m)\u001b[0m\u001b[0;34m\u001b[0m\u001b[0;34m\u001b[0m\u001b[0m\n\u001b[0m\u001b[1;32m      6\u001b[0m \u001b[0mprint\u001b[0m\u001b[0;34m(\u001b[0m\u001b[0;34m\"Model loaded successfully! 🎉\"\u001b[0m\u001b[0;34m)\u001b[0m\u001b[0;34m\u001b[0m\u001b[0;34m\u001b[0m\u001b[0m\n",
            "\u001b[0;32m/content/csm/generator.py\u001b[0m in \u001b[0;36mload_csm_1b\u001b[0;34m(device)\u001b[0m\n\u001b[1;32m    165\u001b[0m \u001b[0;34m\u001b[0m\u001b[0m\n\u001b[1;32m    166\u001b[0m \u001b[0;32mdef\u001b[0m \u001b[0mload_csm_1b\u001b[0m\u001b[0;34m(\u001b[0m\u001b[0mdevice\u001b[0m\u001b[0;34m:\u001b[0m \u001b[0mstr\u001b[0m \u001b[0;34m=\u001b[0m \u001b[0;34m\"cuda\"\u001b[0m\u001b[0;34m)\u001b[0m \u001b[0;34m->\u001b[0m \u001b[0mGenerator\u001b[0m\u001b[0;34m:\u001b[0m\u001b[0;34m\u001b[0m\u001b[0;34m\u001b[0m\u001b[0m\n\u001b[0;32m--> 167\u001b[0;31m     \u001b[0mmodel\u001b[0m \u001b[0;34m=\u001b[0m \u001b[0mModel\u001b[0m\u001b[0;34m.\u001b[0m\u001b[0mfrom_pretrained\u001b[0m\u001b[0;34m(\u001b[0m\u001b[0;34m\"sesame/csm-1b\"\u001b[0m\u001b[0;34m)\u001b[0m\u001b[0;34m\u001b[0m\u001b[0;34m\u001b[0m\u001b[0m\n\u001b[0m\u001b[1;32m    168\u001b[0m     \u001b[0mmodel\u001b[0m\u001b[0;34m.\u001b[0m\u001b[0mto\u001b[0m\u001b[0;34m(\u001b[0m\u001b[0mdevice\u001b[0m\u001b[0;34m=\u001b[0m\u001b[0mdevice\u001b[0m\u001b[0;34m,\u001b[0m \u001b[0mdtype\u001b[0m\u001b[0;34m=\u001b[0m\u001b[0mtorch\u001b[0m\u001b[0;34m.\u001b[0m\u001b[0mbfloat16\u001b[0m\u001b[0;34m)\u001b[0m\u001b[0;34m\u001b[0m\u001b[0;34m\u001b[0m\u001b[0m\n\u001b[1;32m    169\u001b[0m \u001b[0;34m\u001b[0m\u001b[0m\n",
            "\u001b[0;32m/usr/local/lib/python3.11/dist-packages/huggingface_hub/utils/_validators.py\u001b[0m in \u001b[0;36m_inner_fn\u001b[0;34m(*args, **kwargs)\u001b[0m\n\u001b[1;32m    112\u001b[0m             \u001b[0mkwargs\u001b[0m \u001b[0;34m=\u001b[0m \u001b[0msmoothly_deprecate_use_auth_token\u001b[0m\u001b[0;34m(\u001b[0m\u001b[0mfn_name\u001b[0m\u001b[0;34m=\u001b[0m\u001b[0mfn\u001b[0m\u001b[0;34m.\u001b[0m\u001b[0m__name__\u001b[0m\u001b[0;34m,\u001b[0m \u001b[0mhas_token\u001b[0m\u001b[0;34m=\u001b[0m\u001b[0mhas_token\u001b[0m\u001b[0;34m,\u001b[0m \u001b[0mkwargs\u001b[0m\u001b[0;34m=\u001b[0m\u001b[0mkwargs\u001b[0m\u001b[0;34m)\u001b[0m\u001b[0;34m\u001b[0m\u001b[0;34m\u001b[0m\u001b[0m\n\u001b[1;32m    113\u001b[0m \u001b[0;34m\u001b[0m\u001b[0m\n\u001b[0;32m--> 114\u001b[0;31m         \u001b[0;32mreturn\u001b[0m \u001b[0mfn\u001b[0m\u001b[0;34m(\u001b[0m\u001b[0;34m*\u001b[0m\u001b[0margs\u001b[0m\u001b[0;34m,\u001b[0m \u001b[0;34m**\u001b[0m\u001b[0mkwargs\u001b[0m\u001b[0;34m)\u001b[0m\u001b[0;34m\u001b[0m\u001b[0;34m\u001b[0m\u001b[0m\n\u001b[0m\u001b[1;32m    115\u001b[0m \u001b[0;34m\u001b[0m\u001b[0m\n\u001b[1;32m    116\u001b[0m     \u001b[0;32mreturn\u001b[0m \u001b[0m_inner_fn\u001b[0m  \u001b[0;31m# type: ignore\u001b[0m\u001b[0;34m\u001b[0m\u001b[0;34m\u001b[0m\u001b[0m\n",
            "\u001b[0;32m/usr/local/lib/python3.11/dist-packages/huggingface_hub/hub_mixin.py\u001b[0m in \u001b[0;36mfrom_pretrained\u001b[0;34m(cls, pretrained_model_name_or_path, force_download, resume_download, proxies, token, cache_dir, local_files_only, revision, **model_kwargs)\u001b[0m\n\u001b[1;32m    551\u001b[0m                 \u001b[0mmodel_kwargs\u001b[0m\u001b[0;34m[\u001b[0m\u001b[0;34m\"config\"\u001b[0m\u001b[0;34m]\u001b[0m \u001b[0;34m=\u001b[0m \u001b[0mconfig\u001b[0m\u001b[0;34m\u001b[0m\u001b[0;34m\u001b[0m\u001b[0m\n\u001b[1;32m    552\u001b[0m \u001b[0;34m\u001b[0m\u001b[0m\n\u001b[0;32m--> 553\u001b[0;31m         instance = cls._from_pretrained(\n\u001b[0m\u001b[1;32m    554\u001b[0m             \u001b[0mmodel_id\u001b[0m\u001b[0;34m=\u001b[0m\u001b[0mstr\u001b[0m\u001b[0;34m(\u001b[0m\u001b[0mmodel_id\u001b[0m\u001b[0;34m)\u001b[0m\u001b[0;34m,\u001b[0m\u001b[0;34m\u001b[0m\u001b[0;34m\u001b[0m\u001b[0m\n\u001b[1;32m    555\u001b[0m             \u001b[0mrevision\u001b[0m\u001b[0;34m=\u001b[0m\u001b[0mrevision\u001b[0m\u001b[0;34m,\u001b[0m\u001b[0;34m\u001b[0m\u001b[0;34m\u001b[0m\u001b[0m\n",
            "\u001b[0;32m/usr/local/lib/python3.11/dist-packages/huggingface_hub/hub_mixin.py\u001b[0m in \u001b[0;36m_from_pretrained\u001b[0;34m(cls, model_id, revision, cache_dir, force_download, proxies, resume_download, local_files_only, token, map_location, strict, **model_kwargs)\u001b[0m\n\u001b[1;32m    772\u001b[0m     ):\n\u001b[1;32m    773\u001b[0m         \u001b[0;34m\"\"\"Load Pytorch pretrained weights and return the loaded model.\"\"\"\u001b[0m\u001b[0;34m\u001b[0m\u001b[0;34m\u001b[0m\u001b[0m\n\u001b[0;32m--> 774\u001b[0;31m         \u001b[0mmodel\u001b[0m \u001b[0;34m=\u001b[0m \u001b[0mcls\u001b[0m\u001b[0;34m(\u001b[0m\u001b[0;34m**\u001b[0m\u001b[0mmodel_kwargs\u001b[0m\u001b[0;34m)\u001b[0m\u001b[0;34m\u001b[0m\u001b[0;34m\u001b[0m\u001b[0m\n\u001b[0m\u001b[1;32m    775\u001b[0m         \u001b[0;32mif\u001b[0m \u001b[0mos\u001b[0m\u001b[0;34m.\u001b[0m\u001b[0mpath\u001b[0m\u001b[0;34m.\u001b[0m\u001b[0misdir\u001b[0m\u001b[0;34m(\u001b[0m\u001b[0mmodel_id\u001b[0m\u001b[0;34m)\u001b[0m\u001b[0;34m:\u001b[0m\u001b[0;34m\u001b[0m\u001b[0;34m\u001b[0m\u001b[0m\n\u001b[1;32m    776\u001b[0m             \u001b[0mprint\u001b[0m\u001b[0;34m(\u001b[0m\u001b[0;34m\"Loading weights from local directory\"\u001b[0m\u001b[0;34m)\u001b[0m\u001b[0;34m\u001b[0m\u001b[0;34m\u001b[0m\u001b[0m\n",
            "\u001b[0;31mTypeError\u001b[0m: Model.__init__() missing 1 required positional argument: 'config'"
          ]
        }
      ],
      "source": [
        "# Load the model\n",
        "from generator import load_csm_1b\n",
        "import torchaudio\n",
        "\n",
        "generator = load_csm_1b(device=\"cuda\")\n",
        "print(\"Model loaded successfully! 🎉\")"
      ]
    },
    {
      "cell_type": "code",
      "execution_count": null,
      "metadata": {
        "id": "mdpfkA6qiZaZ"
      },
      "outputs": [],
      "source": [
        "# Create a function to generate audio\n",
        "def generate_audio(text, speaker=0):\n",
        "    # Generate audio from text\n",
        "    audio = generator.generate(\n",
        "        text=text,\n",
        "        speaker=speaker,\n",
        "        context=[],\n",
        "        max_audio_length_ms=10_000,\n",
        "    )\n",
        "\n",
        "    # Save the generated audio\n",
        "    output_file = \"output_audio.wav\"\n",
        "    torchaudio.save(output_file, audio.unsqueeze(0).cpu(), generator.sample_rate)\n",
        "\n",
        "    return output_file"
      ]
    },
    {
      "cell_type": "code",
      "source": [
        "# Step 8: Define the Gradio interface function\n",
        "def gradio_interface(text, speaker):\n",
        "    try:\n",
        "        # Call the generate_audio function\n",
        "        audio_file = generate_audio(text, speaker)\n",
        "        return audio_file\n",
        "    except Exception as e:\n",
        "        print(f\"Error generating audio: {e}\")\n",
        "        return None"
      ],
      "metadata": {
        "id": "Whv2TT-CdFBq"
      },
      "execution_count": null,
      "outputs": []
    },
    {
      "cell_type": "markdown",
      "source": [
        "SIMPLE INTEFACE"
      ],
      "metadata": {
        "id": "WawjPzhGaiTD"
      }
    },
    {
      "cell_type": "code",
      "source": [
        "# Create the Gradio UI\n",
        "import gradio as gr\n",
        "# Step 9: Create the Gradio app\n",
        "import gradio as gr\n",
        "\n",
        "iface = gr.Interface(\n",
        "    fn=gradio_interface,  # Function to call\n",
        "    inputs=[\n",
        "        gr.Textbox(label=\"Input Text\", placeholder=\"Enter text here...\"),  # Text input\n",
        "        gr.Slider(minimum=0, maximum=10, step=1, label=\"Speaker ID\", value=0)  # Speaker ID slider\n",
        "    ],\n",
        "    outputs=gr.Audio(label=\"Generated Audio\"),  # Audio output\n",
        "    title=\"Sesame CSM-1B Text-to-Speech\",  # Title of the app\n",
        "    description=\"Generate audio from text using the Sesame CSM-1B model.\"\n",
        ")\n",
        "# Step 10: Launch the Gradio app\n",
        "iface.launch(share=True)  # Set `share=True` to get a public link\n"
      ],
      "metadata": {
        "id": "jabin8W4ZyDe"
      },
      "execution_count": null,
      "outputs": []
    },
    {
      "cell_type": "markdown",
      "source": [
        "INTERFACE WITH MORE FUNCTIONALITIES"
      ],
      "metadata": {
        "id": "s1wa6BCyal1T"
      }
    },
    {
      "cell_type": "code",
      "source": [
        "# Define the Gradio interface using Blocks API\n",
        "with gr.Blocks(title=\"Sesame CSM-1B Text-to-Speech\") as demo:\n",
        "    gr.Markdown(\"# 🎙️ Sesame CSM-1B Text-to-Speech\")\n",
        "    gr.Markdown(\"Generate high-quality audio from text using the Sesame CSM-1B model.\")\n",
        "\n",
        "    with gr.Row():\n",
        "        with gr.Column():\n",
        "            # Text input\n",
        "            text_input = gr.Textbox(label=\"Enter Text\", placeholder=\"Type your text here...\", lines=5)\n",
        "\n",
        "            # Speaker selection\n",
        "            speaker_dropdown = gr.Dropdown(\n",
        "                choices=[\"Speaker 0\", \"Speaker 1\", \"Speaker 2\", \"Speaker 3\"],  # Add more options if needed\n",
        "                label=\"Select Speaker\",\n",
        "                value=\"Speaker 0\"\n",
        "            )\n",
        "\n",
        "            # File upload for text\n",
        "            file_upload = gr.File(label=\"Or Upload a Text File\", file_types=[\".txt\"])\n",
        "\n",
        "            # Generate button\n",
        "            generate_button = gr.Button(\"Generate Audio 🎵\")\n",
        "\n",
        "        with gr.Column():\n",
        "            # Audio output\n",
        "            audio_output = gr.Audio(label=\"Generated Audio\", interactive=False)\n",
        "\n",
        "            # Playback controls\n",
        "            with gr.Row():\n",
        "                play_button = gr.Button(\"▶️ Play\")\n",
        "                pause_button = gr.Button(\"⏸️ Pause\")\n",
        "                stop_button = gr.Button(\"⏹️ Stop\")\n",
        "\n",
        "            # Volume control\n",
        "            volume_slider = gr.Slider(minimum=0, maximum=100, value=50, label=\"Volume\")\n",
        "\n",
        "    # Define interactions\n",
        "    def process_input(text, file, speaker):\n",
        "        if file is not None:\n",
        "            # Read text from the uploaded file\n",
        "            with open(file.name, \"r\") as f:\n",
        "                text = f.read()\n",
        "        # Get speaker ID from the dropdown\n",
        "        speaker_id = int(speaker.split()[-1])\n",
        "        # Generate audio\n",
        "        audio_file = generate_audio(text, speaker_id)\n",
        "        return audio_file\n",
        "\n",
        "    # Link inputs and outputs\n",
        "    generate_button.click(\n",
        "        fn=process_input,\n",
        "        inputs=[text_input, file_upload, speaker_dropdown],\n",
        "        outputs=audio_output\n",
        "    )\n",
        "\n",
        "    # Playback controls (placeholders, as Gradio Audio already has built-in controls)\n",
        "    play_button.click(fn=lambda: None)\n",
        "    pause_button.click(fn=lambda: None)\n",
        "    stop_button.click(fn=lambda: None)\n",
        "\n",
        "# Launch the Gradio app\n",
        "demo.launch(share=True)  # Set `share=True` to get a public link"
      ],
      "metadata": {
        "id": "i4IS7a6xaOdj"
      },
      "execution_count": null,
      "outputs": []
    }
  ],
  "metadata": {
    "accelerator": "GPU",
    "colab": {
      "gpuType": "T4",
      "provenance": [],
      "include_colab_link": true
    },
    "kernelspec": {
      "display_name": "Python 3",
      "name": "python3"
    },
    "language_info": {
      "name": "python"
    }
  },
  "nbformat": 4,
  "nbformat_minor": 0
}